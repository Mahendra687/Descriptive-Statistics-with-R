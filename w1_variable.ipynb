{
 "cells": [
  {
   "cell_type": "markdown",
   "id": "3328a0ff",
   "metadata": {},
   "source": [
    "### Naming Convention"
   ]
  },
  {
   "cell_type": "code",
   "execution_count": 5,
   "id": "e68d2da0",
   "metadata": {},
   "outputs": [],
   "source": [
    "from pandas import*"
   ]
  },
  {
   "cell_type": "code",
   "execution_count": 1,
   "id": "5b93df71",
   "metadata": {},
   "outputs": [],
   "source": [
    "#Camel\n",
    "ageEmp = 56\n",
    "AgeEmp = 54\n",
    "\n",
    "#snake\n",
    "\n",
    "age_emp = 45\n",
    "Age_emp = 50\n",
    "\n",
    "#Pascal\n",
    "\n",
    "AgeEmp = 85"
   ]
  },
  {
   "cell_type": "markdown",
   "id": "b865667c",
   "metadata": {},
   "source": [
    "### Assigning_Values"
   ]
  },
  {
   "cell_type": "code",
   "execution_count": 15,
   "id": "8f286a05",
   "metadata": {},
   "outputs": [
    {
     "name": "stdout",
     "output_type": "stream",
     "text": [
      "10 40 20 30\n"
     ]
    }
   ],
   "source": [
    "Biochem, Genetics, Immunology, Bioinformatics = 10,20,30,40\n",
    "print(Biochem, Bioinformatics,Genetics, Immunology)"
   ]
  },
  {
   "cell_type": "markdown",
   "id": "d16bb14c",
   "metadata": {},
   "source": [
    "### Data type"
   ]
  },
  {
   "cell_type": "code",
   "execution_count": 27,
   "id": "29187e3f",
   "metadata": {},
   "outputs": [
    {
     "name": "stdout",
     "output_type": "stream",
     "text": [
      "Mahendra\n",
      "28\n",
      "70.5\n"
     ]
    }
   ],
   "source": [
    "Name = \"Mahendra\"\n",
    "Age = 28\n",
    "Weight = 70.5\n",
    "print(Name)\n",
    "print(Age)\n",
    "print(Weight)"
   ]
  },
  {
   "cell_type": "markdown",
   "id": "10a6f7e4",
   "metadata": {},
   "source": [
    "### Identifying the Data types"
   ]
  },
  {
   "cell_type": "code",
   "execution_count": 21,
   "id": "2ef86664",
   "metadata": {},
   "outputs": [
    {
     "data": {
      "text/plain": [
       "str"
      ]
     },
     "execution_count": 21,
     "metadata": {},
     "output_type": "execute_result"
    }
   ],
   "source": [
    "type(Name)"
   ]
  },
  {
   "cell_type": "code",
   "execution_count": 24,
   "id": "a0184317",
   "metadata": {},
   "outputs": [
    {
     "data": {
      "text/plain": [
       "int"
      ]
     },
     "execution_count": 24,
     "metadata": {},
     "output_type": "execute_result"
    }
   ],
   "source": [
    "type(Age)"
   ]
  },
  {
   "cell_type": "code",
   "execution_count": 28,
   "id": "e0c9fef0",
   "metadata": {},
   "outputs": [
    {
     "data": {
      "text/plain": [
       "float"
      ]
     },
     "execution_count": 28,
     "metadata": {},
     "output_type": "execute_result"
    }
   ],
   "source": [
    "type(Weight)"
   ]
  },
  {
   "cell_type": "code",
   "execution_count": 32,
   "id": "1f3e8472",
   "metadata": {},
   "outputs": [
    {
     "data": {
      "text/plain": [
       "True"
      ]
     },
     "execution_count": 32,
     "metadata": {},
     "output_type": "execute_result"
    }
   ],
   "source": [
    "type(Name) is str"
   ]
  },
  {
   "cell_type": "code",
   "execution_count": 33,
   "id": "22d0a6c0",
   "metadata": {},
   "outputs": [
    {
     "data": {
      "text/plain": [
       "True"
      ]
     },
     "execution_count": 33,
     "metadata": {},
     "output_type": "execute_result"
    }
   ],
   "source": [
    "type(Age) is int"
   ]
  },
  {
   "cell_type": "code",
   "execution_count": 34,
   "id": "a19f9324",
   "metadata": {},
   "outputs": [
    {
     "data": {
      "text/plain": [
       "True"
      ]
     },
     "execution_count": 34,
     "metadata": {},
     "output_type": "execute_result"
    }
   ],
   "source": [
    "type(Weight) is float"
   ]
  },
  {
   "cell_type": "code",
   "execution_count": 35,
   "id": "15cae385",
   "metadata": {},
   "outputs": [
    {
     "data": {
      "text/plain": [
       "False"
      ]
     },
     "execution_count": 35,
     "metadata": {},
     "output_type": "execute_result"
    }
   ],
   "source": [
    "type(Age) is float"
   ]
  },
  {
   "cell_type": "markdown",
   "id": "640b861c",
   "metadata": {},
   "source": [
    "### Data Types Conversion"
   ]
  },
  {
   "cell_type": "code",
   "execution_count": 36,
   "id": "f35e88e8",
   "metadata": {},
   "outputs": [
    {
     "data": {
      "text/plain": [
       "int"
      ]
     },
     "execution_count": 36,
     "metadata": {},
     "output_type": "execute_result"
    }
   ],
   "source": [
    "type(Age)"
   ]
  },
  {
   "cell_type": "code",
   "execution_count": 37,
   "id": "a5827de8",
   "metadata": {},
   "outputs": [],
   "source": [
    "Fl_Int = float(Age)"
   ]
  },
  {
   "cell_type": "code",
   "execution_count": 38,
   "id": "e831f05c",
   "metadata": {},
   "outputs": [
    {
     "data": {
      "text/plain": [
       "float"
      ]
     },
     "execution_count": 38,
     "metadata": {},
     "output_type": "execute_result"
    }
   ],
   "source": [
    "type(Fl_Int)"
   ]
  },
  {
   "cell_type": "code",
   "execution_count": 40,
   "id": "fef31c7a",
   "metadata": {},
   "outputs": [
    {
     "data": {
      "text/plain": [
       "int"
      ]
     },
     "execution_count": 40,
     "metadata": {},
     "output_type": "execute_result"
    }
   ],
   "source": [
    "Int_Flt = int(Weight)\n",
    "type(Int_Flt)"
   ]
  },
  {
   "cell_type": "code",
   "execution_count": 43,
   "id": "2c386f05",
   "metadata": {},
   "outputs": [
    {
     "data": {
      "text/plain": [
       "int"
      ]
     },
     "execution_count": 43,
     "metadata": {},
     "output_type": "execute_result"
    }
   ],
   "source": [
    "Salary_tier = \"1\"\n",
    "Int_str = int(Salary_tier)\n",
    "type(Int_str)"
   ]
  }
 ],
 "metadata": {
  "kernelspec": {
   "display_name": "Python 3 (ipykernel)",
   "language": "python",
   "name": "python3"
  },
  "language_info": {
   "codemirror_mode": {
    "name": "ipython",
    "version": 3
   },
   "file_extension": ".py",
   "mimetype": "text/x-python",
   "name": "python",
   "nbconvert_exporter": "python",
   "pygments_lexer": "ipython3",
   "version": "3.9.7"
  }
 },
 "nbformat": 4,
 "nbformat_minor": 5
}
